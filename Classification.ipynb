{
 "cells": [
  {
   "cell_type": "code",
   "execution_count": 1,
   "metadata": {},
   "outputs": [],
   "source": [
    "import os\n",
    "import numpy as np\n",
    "import matplotlib.pyplot as plt\n",
    "from tensorflow.keras.models import Sequential, load_model\n",
    "from tensorflow.keras.layers import Dense, Flatten\n",
    "from tensorflow.keras.applications import VGG16\n",
    "from tensorflow.keras.preprocessing.image import ImageDataGenerator\n",
    "import tensorflow as tf"
   ]
  },
  {
   "cell_type": "code",
   "execution_count": 9,
   "metadata": {},
   "outputs": [
    {
     "name": "stdout",
     "output_type": "stream",
     "text": [
      "Categories Found: ['daisy', 'dandelion', 'rose', 'sunflower', 'tulip']\n",
      "Number of Classes: 5\n"
     ]
    }
   ],
   "source": [
    "## Section 2: Dataset Preparation\n",
    "data_dir = 'Images'  # Ensure this directory exists and contains subdirectories for each class\n",
    "\n",
    "# Validate Dataset\n",
    "if not os.path.exists(data_dir):\n",
    "    raise FileNotFoundError(f\"Dataset directory {data_dir} not found.\")\n",
    "\n",
    "# categories = os.listdir(data_dir)\n",
    "# categories = [cat for cat in categories if os.path.isdir(os.path.join(data_dir, cat))]\n",
    "# num_classes = len(categories)\n",
    "\n",
    "print(f\"Categories Found: {categories}\")\n",
    "print(f\"Number of Classes: {num_classes}\")\n",
    "\n",
    "if num_classes == 0:\n",
    "    raise ValueError(\"No categories found in the dataset directory.\")"
   ]
  },
  {
   "cell_type": "code",
   "execution_count": 3,
   "metadata": {},
   "outputs": [
    {
     "name": "stdout",
     "output_type": "stream",
     "text": [
      "Found 2198 images belonging to 5 classes.\n",
      "Found 548 images belonging to 5 classes.\n",
      "Image batch shape: (32, 224, 224, 3)\n",
      "Labels batch shape: (32, 5)\n"
     ]
    }
   ],
   "source": [
    "## Section 3: ImageDataGenerator\n",
    "img_height, img_width = 224, 224\n",
    "batch_size = 32\n",
    "\n",
    "train_datagen = ImageDataGenerator(rescale=1.0 / 255, validation_split=0.2)\n",
    "\n",
    "train_generator = train_datagen.flow_from_directory(\n",
    "    data_dir,\n",
    "    target_size=(img_height, img_width),\n",
    "    batch_size=batch_size,\n",
    "    class_mode=\"categorical\",\n",
    "    subset=\"training\",\n",
    ")\n",
    "\n",
    "validation_generator = train_datagen.flow_from_directory(\n",
    "    data_dir,\n",
    "    target_size=(img_height, img_width),\n",
    "    batch_size=batch_size,\n",
    "    class_mode=\"categorical\",\n",
    "    subset=\"validation\",\n",
    ")\n",
    "\n",
    "# Debugging Data Generator\n",
    "for data_batch, labels_batch in train_generator:\n",
    "    print(f\"Image batch shape: {data_batch.shape}\")\n",
    "    print(f\"Labels batch shape: {labels_batch.shape}\")\n",
    "    break"
   ]
  },
  {
   "cell_type": "code",
   "execution_count": 5,
   "metadata": {},
   "outputs": [],
   "source": [
    "## Section 4: Model Definition\n",
    "base_model = VGG16(weights='imagenet', include_top=False, input_shape=(224, 224, 3))\n",
    "base_model.trainable = False\n",
    "\n",
    "model = Sequential([\n",
    "    base_model,\n",
    "    Flatten(),\n",
    "    Dense(256, activation='relu'),\n",
    "    Dense(num_classes, activation='softmax')  # Ensure num_classes matches categories\n",
    "])\n",
    "\n",
    "model.compile(optimizer='adam', loss='categorical_crossentropy', metrics=['accuracy'])\n",
    "# model.summary()"
   ]
  },
  {
   "cell_type": "code",
   "execution_count": null,
   "metadata": {},
   "outputs": [
    {
     "name": "stderr",
     "output_type": "stream",
     "text": [
      "c:\\Users\\PMYLS\\anaconda3\\Lib\\site-packages\\keras\\src\\trainers\\data_adapters\\py_dataset_adapter.py:121: UserWarning: Your `PyDataset` class should call `super().__init__(**kwargs)` in its constructor. `**kwargs` can include `workers`, `use_multiprocessing`, `max_queue_size`. Do not pass these arguments to `fit()`, as they will be ignored.\n",
      "  self._warn_if_super_not_called()\n"
     ]
    },
    {
     "name": "stdout",
     "output_type": "stream",
     "text": [
      "\u001b[1m69/69\u001b[0m \u001b[32m━━━━━━━━━━━━━━━━━━━━\u001b[0m\u001b[37m\u001b[0m \u001b[1m330s\u001b[0m 5s/step - accuracy: 0.4503 - loss: 3.4047 - val_accuracy: 0.7719 - val_loss: 0.6465\n",
      "\u001b[1m18/18\u001b[0m \u001b[32m━━━━━━━━━━━━━━━━━━━━\u001b[0m\u001b[37m\u001b[0m \u001b[1m66s\u001b[0m 4s/step - accuracy: 0.7957 - loss: 0.6100\n"
     ]
    },
    {
     "name": "stderr",
     "output_type": "stream",
     "text": [
      "WARNING:absl:You are saving your model as an HDF5 file via `model.save()` or `keras.saving.save_model(model)`. This file format is considered legacy. We recommend using instead the native Keras format, e.g. `model.save('my_model.keras')` or `keras.saving.save_model(model, 'my_model.keras')`. \n"
     ]
    },
    {
     "name": "stdout",
     "output_type": "stream",
     "text": [
      "Validation Loss: 0.65, Validation Accuracy: 0.77\n",
      "Model saved as 'animal10_model.h5'\n"
     ]
    }
   ],
   "source": [
    "## Section 5: Model Training\n",
    "epochs = 1\n",
    "history = model.fit(\n",
    "    train_generator,\n",
    "    epochs=epochs,\n",
    "    validation_data=validation_generator\n",
    ")\n",
    "\n",
    "val_loss, val_acc = model.evaluate(validation_generator)\n",
    "print(f\"Validation Loss: {val_loss:.2f}, Validation Accuracy: {val_acc:.2f}\")\n",
    "\n",
    "model.save('FLower_model.h5')\n",
    "print(\"Model saved as 'FLower_model.h5'\")"
   ]
  },
  {
   "cell_type": "code",
   "execution_count": null,
   "metadata": {},
   "outputs": [
    {
     "name": "stdout",
     "output_type": "stream",
     "text": [
      "Error during model testing: File not found: filepath=animal10_model.keras. Please ensure the file is an accessible `.keras` zip file.\n"
     ]
    }
   ],
   "source": [
    "## Section 6: Model Testing and Prediction\n",
    "try:\n",
    "    # Load the model in the new Keras format\n",
    "    model = load_model('FLower_model.keras')\n",
    "    print(\"Model loaded successfully.\")\n",
    "    model.summary()\n",
    "\n",
    "    # Create a dummy input for testing\n",
    "    example_input = np.random.random((1, 224, 224, 3)).astype(np.float32)\n",
    "\n",
    "    # Make predictions\n",
    "    prediction = model.predict(example_input)\n",
    "    predicted_class = categories[np.argmax(prediction)]\n",
    "    print(f\"Predicted Class: {predicted_class}\")\n",
    "\n",
    "    # Display dummy image with prediction\n",
    "    plt.imshow(example_input[0])\n",
    "    plt.title(f\"Predicted Class: {predicted_class}\")\n",
    "    plt.show()\n",
    "\n",
    "except Exception as e:\n",
    "    print(f\"Error during model testing: {e}\")\n"
   ]
  },
  {
   "cell_type": "code",
   "execution_count": null,
   "metadata": {},
   "outputs": [
    {
     "name": "stdout",
     "output_type": "stream",
     "text": [
      "Epoch 1/5\n",
      "\u001b[1m4/4\u001b[0m \u001b[32m━━━━━━━━━━━━━━━━━━━━\u001b[0m\u001b[37m\u001b[0m \u001b[1m11s\u001b[0m 2s/step - accuracy: 0.1508 - loss: 2.2987\n",
      "Epoch 2/5\n",
      "\u001b[1m4/4\u001b[0m \u001b[32m━━━━━━━━━━━━━━━━━━━━\u001b[0m\u001b[37m\u001b[0m \u001b[1m10s\u001b[0m 2s/step - accuracy: 0.2130 - loss: 2.5710\n",
      "Epoch 3/5\n",
      "\u001b[1m4/4\u001b[0m \u001b[32m━━━━━━━━━━━━━━━━━━━━\u001b[0m\u001b[37m\u001b[0m \u001b[1m10s\u001b[0m 2s/step - accuracy: 0.2325 - loss: 2.2859\n",
      "Epoch 4/5\n",
      "\u001b[1m4/4\u001b[0m \u001b[32m━━━━━━━━━━━━━━━━━━━━\u001b[0m\u001b[37m\u001b[0m \u001b[1m10s\u001b[0m 2s/step - accuracy: 0.1955 - loss: 2.0062\n",
      "Epoch 5/5\n",
      "\u001b[1m4/4\u001b[0m \u001b[32m━━━━━━━━━━━━━━━━━━━━\u001b[0m\u001b[37m\u001b[0m \u001b[1m10s\u001b[0m 2s/step - accuracy: 0.2033 - loss: 1.8075\n"
     ]
    },
    {
     "name": "stderr",
     "output_type": "stream",
     "text": [
      "WARNING:absl:You are saving your model as an HDF5 file via `model.save()` or `keras.saving.save_model(model)`. This file format is considered legacy. We recommend using instead the native Keras format, e.g. `model.save('my_model.keras')` or `keras.saving.save_model(model, 'my_model.keras')`. \n"
     ]
    },
    {
     "name": "stdout",
     "output_type": "stream",
     "text": [
      "Updated model saved as 'updated_animal10_model.h5'\n"
     ]
    }
   ],
   "source": [
    "## Section 7: Fine-tuning the Model (Optional)\n",
    "train_data = np.random.random((100, 224, 224, 3))  # Replace with actual training data\n",
    "train_labels = np.random.randint(0, len(categories), (100,))  # Replace with actual labels\n",
    "\n",
    "model.compile(optimizer='adam', loss='sparse_categorical_crossentropy', metrics=['accuracy'])\n",
    "model.fit(train_data, train_labels, epochs=5)\n",
    "model.save('updated_FLower_model.h5')\n",
    "print(\"Updated model saved as 'updated_FLower_model.h5'\")"
   ]
  }
 ],
 "metadata": {
  "kernelspec": {
   "display_name": "base",
   "language": "python",
   "name": "python3"
  },
  "language_info": {
   "codemirror_mode": {
    "name": "ipython",
    "version": 3
   },
   "file_extension": ".py",
   "mimetype": "text/x-python",
   "name": "python",
   "nbconvert_exporter": "python",
   "pygments_lexer": "ipython3",
   "version": "3.12.4"
  }
 },
 "nbformat": 4,
 "nbformat_minor": 2
}
